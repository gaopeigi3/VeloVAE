{
 "cells": [
  {
   "cell_type": "code",
   "execution_count": 1,
   "id": "06594f87",
   "metadata": {},
   "outputs": [],
   "source": [
    "import anndata\n",
    "import numpy as np\n",
    "import pandas as pd\n",
    "import sys\n",
    "sys.path.append('../../')\n",
    "import velovae as vv"
   ]
  },
  {
   "cell_type": "code",
   "execution_count": 2,
   "id": "5244d625",
   "metadata": {},
   "outputs": [],
   "source": [
    "root = \"/scratch/blaauw_root/blaauw1/gyichen\"\n",
    "data_path_base = f\"{root}/data\"\n",
    "figure_path_base = f\"{root}/figures\""
   ]
  },
  {
   "cell_type": "markdown",
   "id": "c9bb2644",
   "metadata": {},
   "source": [
    "# Datasets and Related Attributes"
   ]
  },
  {
   "cell_type": "code",
   "execution_count": 3,
   "id": "71ffe1a1",
   "metadata": {},
   "outputs": [],
   "source": [
    "datasets = [\"Pancreas\", \"Erythroid\", \"Braindev\", \"IPSC\", \"IO_EU\"]\n",
    "cluster_edges = {\n",
    "    \"Pancreas\":[('Ngn3 low EP', 'Ngn3 high EP'), \n",
    "                ('Ngn3 high EP', 'Pre-endocrine'),\n",
    "                ('Pre-endocrine', 'Delta'), \n",
    "                ('Pre-endocrine', 'Beta'), \n",
    "                ('Pre-endocrine','Epsilon'), \n",
    "                ('Pre-endocrine','Alpha')],\n",
    "    \"Erythroid\":[(\"Blood progenitors 1\", \"Blood progenitors 2\"), \n",
    "                 (\"Blood progenitors 2\", \"Erythroid1\"),\n",
    "                 (\"Erythroid1\", \"Erythroid2\"), \n",
    "                 (\"Erythroid2\", \"Erythroid3\")],\n",
    "    \"IPSC\":[('MET','Epithelial'),\n",
    "            ('Epithelial','IPS'),\n",
    "            ('Epithelial','Neural'),\n",
    "            ('Epithelial','Trophoblast'),\n",
    "            ('Epithelial','Stromal')],\n",
    "    \"BMMC\":[('HSC','LMPP'),\n",
    "            ('LMPP','GMP'),\n",
    "            ('GMP','CD14 Mono'),\n",
    "            ('CD14 Mono','CD16 Mono'),\n",
    "            ('Prog DC','cDc2'),\n",
    "            ('Prog B 1','Prog B 2'), \n",
    "            ('Prog MK','Prog RBC')],\n",
    "    \"Braindev\":[('Neural tube','Radial glia'),\n",
    "                ('Radial glia', 'Neuroblast'),\n",
    "                ('Radial glia', 'Glioblast'),\n",
    "                ('Radial glia', 'Oligodendrocyte'),\n",
    "                ('Radial glia', 'Ependymal'),\n",
    "                ('Neural crest', 'Mesenchyme'),\n",
    "                ('Mesenchyme','Fibroblast')],\n",
    "    \"HIO\":[],\n",
    "    \"Bonemarrow\":[('HSC_1', 'Ery_1'), \n",
    "                 ('HSC_1', 'HSC_2'), \n",
    "                 ('Ery_1', 'Ery_2')],\n",
    "    \"Dentategyrus\":[('OPC', 'OL')],\n",
    "    \"Erythroid_Human\":[('MEMP', 'Early Erythroid'), \n",
    "                       ('Early Erythroid', 'Mid  Erythroid'), \n",
    "                       ('Mid  Erythroid', 'Late Erythroid')],\n",
    "    \"Hindbrain_pons\":[('COPs', 'NFOLs'), \n",
    "                      ('NFOLs', 'MFOLs')],\n",
    "    \"IO_EU\":[('Stem cells', 'TA cells'), \n",
    "             ('Stem cells', 'Goblet cells'),\n",
    "             ('Stem cells', 'Tuft cells'), \n",
    "             ('TA cells', 'Enterocytes')],\n",
    "    \"Neuron_scNT\":[('0' , '15'), \n",
    "                   ('15', '30'), \n",
    "                   ('30', '60'), \n",
    "                   ('60', '120')],\n",
    "    \"Retina\":[('Neuroblast', 'PR'), \n",
    "              ('Neuroblast', 'AC/HC'), \n",
    "              ('Neuroblast', 'RGC')]\n",
    "}\n",
    "\n",
    "genes = {\n",
    "    \"Pancreas\": [\"Gng12\", \"Smoc1\", \"Ppp3ca\", \"Nnat\"],\n",
    "    \"Erythroid\": [\"Smim1\", \"Blvrb\", \"Hba-x\", \"Lmo2\"],\n",
    "    \"Braindev\": ['Mapt', 'Tmsb10', 'Fabp7', 'Npm1'],\n",
    "    \"IPSC\": [\"Vim\",\"Nr2f1\",\"Krt7\",\"H19\"],\n",
    "    \"BMMC\": ['SPINK2', 'AZU1', 'MPO', 'LYZ', 'CD74', 'HBB'],\n",
    "    \"HIO\": ['PLP1','ECSCR', 'COL1A1', 'EPCAM'],\n",
    "    \"Bonemarrow\": ['CD44','CELF2','TAOK3'],\n",
    "    \"Dentatgyrus\": ['Tmsb10', 'Fam155a', 'Hn1', 'Rpl6'],\n",
    "    \"Erythroid_Human\": ['CNN3','CYR61','ABCG2','HBA1'],\n",
    "    \"Hindbrain_pons\": ['Ptprz1','Enpp6','Rras2','Mal'],\n",
    "    \"IO_EU\": [\"Apoa1\",\"Dgat1\",\"Gsta4\",\"Lgr5\"],\n",
    "    \"Neuron_scNT\": ['Fosb','Rfx3','Cebpg','Homer1'],\n",
    "    \"Retina\": ['Mcm6','Cdk1','Esco2','Cenpa'],\n",
    "}"
   ]
  },
  {
   "cell_type": "markdown",
   "id": "81835d96",
   "metadata": {},
   "source": [
    "# RNA Velocity Methods"
   ]
  },
  {
   "cell_type": "code",
   "execution_count": null,
   "id": "b8b95db0",
   "metadata": {},
   "outputs": [],
   "source": [
    "methods = [\"scVelo\", \"VeloVAE\", \"FullVB\", \"UniTVelo\", \"DeepVelo\", \"VeloVI\"]\n",
    "keys = [\"fit\", \"velovae\", \"fullvb\", \"utv\", \"dv\", \"velovi\"]\n",
    "out_folders = [f\"{data_path_base}/scvelo\"\n",
    "               f\"{data_path_base}/velovae/continuous\",\n",
    "               f\"{data_path_base}/velovae/continuous\",\n",
    "               f\"{data_path_base}/utv\",\n",
    "               f\"{data_path_base}/deepvelo\",\n",
    "               f\"{data_path_base}/velovi\"]"
   ]
  },
  {
   "cell_type": "markdown",
   "id": "24876d63",
   "metadata": {},
   "source": [
    "# Performance Comparison"
   ]
  },
  {
   "cell_type": "code",
   "execution_count": null,
   "id": "ecce97b6",
   "metadata": {
    "scrolled": true
   },
   "outputs": [],
   "source": [
    "res_final = {}\n",
    "for i, dataset in enumerate(datasets):\n",
    "    figure_path = f\"figures/{dataset}\"\n",
    "    res_list = []\n",
    "    for j, method in enumerate(methods):\n",
    "        adata = anndata.read_h5ad(f\"{out_folders[j]}/{dataset}/{dataset}.h5ad\")\n",
    "        if(method==\"VeloVI\"):\n",
    "            adata.uns[\"velovi_train_idx\"] = adata.uns[\"vi_train_idx\"]\n",
    "            adata.uns[\"velovi_test_idx\"] = adata.uns[\"vi_test_idx\"]\n",
    "        res = vv.post_analysis(adata,\n",
    "                               method,\n",
    "                               [methods[j]],\n",
    "                               [keys[j]],\n",
    "                               compute_metrics=True,\n",
    "                               genes=genes[dataset],\n",
    "                               plot_type=['all'],\n",
    "                               cluster_edges=cluster_edges[dataset],\n",
    "                               save_path=figure_path)\n",
    "        res_list.append(res)\n",
    "    res_final[dataset] = pd.concat(res_list, axis=1).T\n",
    "    print(res_final[dataset])"
   ]
  },
  {
   "cell_type": "code",
   "execution_count": null,
   "id": "f45b446e",
   "metadata": {},
   "outputs": [],
   "source": [
    "def fix_na(df):\n",
    "    for method in df.columns:\n",
    "        for dataset in df.index:\n",
    "            if(df.loc[dataset, method]=='N/A'):\n",
    "                df.loc[dataset, method] = np.nan\n",
    "    return df"
   ]
  },
  {
   "cell_type": "code",
   "execution_count": null,
   "id": "14273909",
   "metadata": {},
   "outputs": [],
   "source": [
    "import matplotlib.pyplot as plt\n",
    "fig, ax = plt.subplots(2,2,figsize=(24,12),facecolor='white')\n",
    "colors = vv.plotting.get_colors(len(datasets))\n",
    "\n",
    "i, j = 0, 0\n",
    "for metric in ['Cross-Boundary Direction Correctness', 'Cross-Boundary Direction Correctness (embed)', 'In-Cluster Coherence', 'corr']:\n",
    "    \n",
    "    if(metric=='corr'):\n",
    "        res_plot = pd.concat([res_final[\"Erythroid\"][metric], \\\n",
    "                              res_final[\"Braindev\"][metric], \n",
    "                              res_final[\"IPSC\"][metric]], axis=1)\n",
    "        res_plot.columns = [\"Erythroid\", \"Braindev\", \"IPSC\"]\n",
    "    else:\n",
    "        res_plot = pd.concat([res_final[key][metric] for key in res_final], axis=1)\n",
    "        res_plot.columns = datasets\n",
    "    res_plot = res_plot.T\n",
    "    res_plot = fix_na(res_plot)\n",
    "    res_plot.plot.bar(ax=ax[i,j],rot=0, legend=False)\n",
    "    ax[i,j].set_title(metric, fontsize=20)\n",
    "    j = j+1\n",
    "    if(j==2):\n",
    "        j = 0\n",
    "        i += 1\n",
    "handles, labels = ax[0,0].get_legend_handles_labels()\n",
    "lgd = fig.legend(handles, labels, fontsize=20, markerscale=1, bbox_to_anchor=(1.0,1.0), loc='upper left')\n",
    "plt.tight_layout()\n",
    "fig.savefig('figures/compare_vel.png', bbox_extra_artist=(lgd,), bbox_inches='tight')"
   ]
  },
  {
   "cell_type": "code",
   "execution_count": null,
   "id": "82ccc23d",
   "metadata": {},
   "outputs": [],
   "source": [
    "fig, ax = plt.subplots(2,3,figsize=(24,12),facecolor='white')\n",
    "colors = vv.plotting.get_colors(len(datasets))\n",
    "\n",
    "i, j = 0, 0\n",
    "for metric in ['MSE Train', 'MSE Test', 'MAE Train', 'MAE Test', 'LL Train', 'LL Test']:\n",
    "    res_plot = pd.concat([res_final[key][metric] for key in res_final], axis=1)\n",
    "    res_plot.columns = datasets\n",
    "    res_plot = res_plot.T\n",
    "    res_plot = fix_na(res_plot)\n",
    "    res_plot.plot.bar(ax=ax[i,j],rot=0, legend=False)\n",
    "    ax[i,j].set_title(metric, fontsize=20)\n",
    "    if('MSE' in metric or 'MAE' in metric):\n",
    "        ax[i,j].set_yscale('log')\n",
    "    else:\n",
    "        ax[i,j].set_ylim(-3000, 5000)\n",
    "    j = j+1\n",
    "    if(j==3):\n",
    "        j = 0\n",
    "        i += 1\n",
    "handles, labels = ax[0,0].get_legend_handles_labels()\n",
    "lgd = fig.legend(handles, labels, fontsize=20, markerscale=1, bbox_to_anchor=(1.0,1.0), loc='upper left')\n",
    "plt.tight_layout()\n",
    "fig.savefig('figures/compare_err.png', bbox_extra_artist=(lgd,), bbox_inches='tight')    "
   ]
  }
 ],
 "metadata": {
  "kernelspec": {
   "display_name": "Python 3",
   "language": "python",
   "name": "python3"
  },
  "language_info": {
   "codemirror_mode": {
    "name": "ipython",
    "version": 3
   },
   "file_extension": ".py",
   "mimetype": "text/x-python",
   "name": "python",
   "nbconvert_exporter": "python",
   "pygments_lexer": "ipython3",
   "version": "3.9.7"
  }
 },
 "nbformat": 4,
 "nbformat_minor": 5
}
