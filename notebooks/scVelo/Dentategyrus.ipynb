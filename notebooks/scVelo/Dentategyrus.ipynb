{
 "cells": [
  {
   "cell_type": "code",
   "execution_count": 1,
   "id": "4b46e752",
   "metadata": {},
   "outputs": [],
   "source": [
    "import anndata\n",
    "import numpy as np\n",
    "import scvelo as scv\n",
    "import pandas as pd\n",
    "import sys\n",
    "sys.path.append('../../../')\n",
    "import velovae as vv\n",
    "import time\n",
    "import os"
   ]
  },
  {
   "cell_type": "code",
   "execution_count": 2,
   "id": "213e3c3f",
   "metadata": {},
   "outputs": [],
   "source": [
    "root = '< your root path >'\n",
    "dataset = 'Dentategyrus'\n",
    "adata = anndata.read_h5ad(f'{root}/data/{dataset}_pp.h5ad')"
   ]
  },
  {
   "cell_type": "code",
   "execution_count": 3,
   "id": "da1f639b",
   "metadata": {},
   "outputs": [],
   "source": [
    "data_path = f'{root}/data/scv/{dataset}'\n",
    "figure_path = f'{root}/figures/{dataset}/scv'\n",
    "os.makedirs(data_path, exist_ok=True)\n",
    "os.makedirs(figure_path, exist_ok=True)"
   ]
  },
  {
   "cell_type": "code",
   "execution_count": 4,
   "id": "37cf8897",
   "metadata": {},
   "outputs": [
    {
     "name": "stdout",
     "output_type": "stream",
     "text": [
      "recovering dynamics (using 1/36 cores)\n"
     ]
    },
    {
     "data": {
      "application/vnd.jupyter.widget-view+json": {
       "model_id": "79f59646a3264d0bb2ee75e5199c463b",
       "version_major": 2,
       "version_minor": 0
      },
      "text/plain": [
       "  0%|          | 0/476 [00:00<?, ?gene/s]"
      ]
     },
     "metadata": {},
     "output_type": "display_data"
    },
    {
     "name": "stdout",
     "output_type": "stream",
     "text": [
      "    finished (0:02:24) --> added \n",
      "    'fit_pars', fitted parameters for splicing dynamics (adata.var)\n",
      "computing velocities\n",
      "    finished (0:00:01) --> added \n",
      "    'velocity', velocity vectors for each individual cell (adata.layers)\n",
      "computing velocity graph (using 1/36 cores)\n"
     ]
    },
    {
     "data": {
      "application/vnd.jupyter.widget-view+json": {
       "model_id": "658a460159154d069970cbe294328d71",
       "version_major": 2,
       "version_minor": 0
      },
      "text/plain": [
       "  0%|          | 0/2930 [00:00<?, ?cells/s]"
      ]
     },
     "metadata": {},
     "output_type": "display_data"
    },
    {
     "name": "stdout",
     "output_type": "stream",
     "text": [
      "    finished (0:00:03) --> added \n",
      "    'velocity_graph', sparse matrix with cosine correlations (adata.uns)\n",
      "computing terminal states\n",
      "WARNING: Uncertain or fuzzy root cell identification. Please verify.\n",
      "    identified 4 regions of root cells and 3 regions of end points .\n",
      "    finished (0:00:00) --> added\n",
      "    'root_cells', root cells of Markov diffusion process (adata.obs)\n",
      "    'end_points', end points of Markov diffusion process (adata.obs)\n",
      "computing latent time using root_cells as prior\n",
      "    finished (0:00:00) --> added \n",
      "    'latent_time', shared time (adata.obs)\n",
      "Total run time: 144.9164206981659\n",
      "---------------------------------------------------\n"
     ]
    }
   ],
   "source": [
    "t_start = time.time()\n",
    "scv.tl.recover_dynamics(adata)\n",
    "run_time = time.time() - t_start\n",
    "scv.tl.velocity(adata, mode='dynamical')\n",
    "scv.tl.velocity_graph(adata)\n",
    "scv.tl.latent_time(adata)\n",
    "adata.uns['fit_run_time'] = run_time\n",
    "adata.write_h5ad(f'{data_path}/{dataset}.h5ad')\n",
    "\n",
    "print(f\"Total run time: {run_time}\")\n",
    "print(\"---------------------------------------------------\")"
   ]
  },
  {
   "cell_type": "code",
   "execution_count": null,
   "id": "cd8bc673",
   "metadata": {},
   "outputs": [],
   "source": []
  }
 ],
 "metadata": {
  "kernelspec": {
   "display_name": "velo_env",
   "language": "python",
   "name": "velo_env"
  },
  "language_info": {
   "codemirror_mode": {
    "name": "ipython",
    "version": 3
   },
   "file_extension": ".py",
   "mimetype": "text/x-python",
   "name": "python",
   "nbconvert_exporter": "python",
   "pygments_lexer": "ipython3",
   "version": "3.9.0"
  }
 },
 "nbformat": 4,
 "nbformat_minor": 5
}
