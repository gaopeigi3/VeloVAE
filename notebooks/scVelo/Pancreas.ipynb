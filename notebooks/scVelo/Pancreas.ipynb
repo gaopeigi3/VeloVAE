{
 "cells": [
  {
   "cell_type": "code",
   "execution_count": 9,
   "id": "4b46e752",
   "metadata": {},
   "outputs": [],
   "source": [
    "import anndata\n",
    "import numpy as np\n",
    "import scvelo as scv\n",
    "import pandas as pd\n",
    "import sys\n",
    "sys.path.append('../../../')\n",
    "import velovae as vv\n",
    "import time\n",
    "import os"
   ]
  },
  {
   "cell_type": "code",
   "execution_count": 3,
   "id": "213e3c3f",
   "metadata": {},
   "outputs": [],
   "source": [
    "root = '< your root path >'\n",
    "dataset = 'Pancreas'\n",
    "adata = anndata.read_h5ad(f'{root}/data/{dataset}_pp.h5ad')"
   ]
  },
  {
   "cell_type": "code",
   "execution_count": 12,
   "id": "da1f639b",
   "metadata": {},
   "outputs": [],
   "source": [
    "data_path = f'{root}/data/scv/{dataset}'\n",
    "figure_path = f'{root}/figures/{dataset}/scv'\n",
    "os.makedirs(data_path, exist_ok=True)\n",
    "os.makedirs(figure_path, exist_ok=True)"
   ]
  },
  {
   "cell_type": "code",
   "execution_count": 13,
   "id": "37cf8897",
   "metadata": {},
   "outputs": [
    {
     "name": "stdout",
     "output_type": "stream",
     "text": [
      "Total run time: 538.4047350883484\n",
      "---------------------------------------------------\n"
     ]
    }
   ],
   "source": [
    "t_start = time.time()\n",
    "scv.tl.recover_dynamics(adata)\n",
    "run_time = time.time() - t_start\n",
    "scv.tl.velocity(adata, mode='dynamical')\n",
    "scv.tl.velocity_graph(adata)\n",
    "scv.tl.latent_time(adata)\n",
    "adata.uns['fit_run_time'] = run_time\n",
    "adata.write_h5ad(f'{data_path}/{dataset}.h5ad')\n",
    "\n",
    "print(f\"Total run time: {run_time}\")\n",
    "print(\"---------------------------------------------------\")"
   ]
  },
  {
   "cell_type": "code",
   "execution_count": null,
   "id": "cd8bc673",
   "metadata": {},
   "outputs": [],
   "source": []
  }
 ],
 "metadata": {
  "kernelspec": {
   "display_name": "velo_env",
   "language": "python",
   "name": "velo_env"
  },
  "language_info": {
   "codemirror_mode": {
    "name": "ipython",
    "version": 3
   },
   "file_extension": ".py",
   "mimetype": "text/x-python",
   "name": "python",
   "nbconvert_exporter": "python",
   "pygments_lexer": "ipython3",
   "version": "3.9.0"
  }
 },
 "nbformat": 4,
 "nbformat_minor": 5
}
